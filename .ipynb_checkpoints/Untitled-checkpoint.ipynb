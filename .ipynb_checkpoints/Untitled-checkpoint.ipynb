{
 "cells": [
  {
   "cell_type": "code",
   "execution_count": 1,
   "metadata": {},
   "outputs": [],
   "source": [
    "import numpy as np\n",
    "import matplotlib.pyplot as plt"
   ]
  },
  {
   "cell_type": "markdown",
   "metadata": {},
   "source": [
    "Funcion singleton\n",
    "\n",
    "Función singleton(x,X0): funcion de pertenencia singleton\n",
    "\n",
    "Argumentos:\n",
    "\n",
    "    x: int, float, numpy.ndarray\n",
    "    contine los valores de x en el universo de discurso\n",
    "    para los cuales se evalua su valor de pertenencia\n",
    "    \n",
    "    x0: valor de referencia (int,float)\n",
    "    \n",
    "Retorna:\n",
    "\n",
    "    singleton(x,x0): float, si x es int , float\n",
    "    \n",
    "    singleton(x,x0): numpy.ndarray: si x es numpy.ndarray\n",
    "    \n",
    "    -1 si no es posible calcular valor\n"
   ]
  },
  {
   "cell_type": "code",
   "execution_count": 10,
   "metadata": {},
   "outputs": [],
   "source": [
    "def singleton(x,x0):\n",
    "    if (type(x) is int) or (type(x) is float):\n",
    "        #si x es entero o real\n",
    "        if x == x0:\n",
    "            m = 1.0\n",
    "        else:\n",
    "            m = 0.0\n",
    "        return m\n",
    "    elif (type(x) is np.ndarray):\n",
    "        #si es un array np\n",
    "        m = np.zeros(x.size)\n",
    "        for i in range (x.size):\n",
    "            if x[i] == x0:\n",
    "                m[i] = 1.0\n",
    "            else:\n",
    "                m[i] = 0.0\n",
    "            return m\n",
    "    else:\n",
    "        return -1"
   ]
  },
  {
   "cell_type": "code",
   "execution_count": 35,
   "metadata": {
    "scrolled": true
   },
   "outputs": [
    {
     "name": "stdout",
     "output_type": "stream",
     "text": [
      "Con x0  4.5 el valor singleton de x 4.5 es 1.0\n"
     ]
    },
    {
     "data": {
      "image/png": "[encoded data removed]",
      "text/plain": [
       "<Figure size 432x288 with 1 Axes>"
      ]
     },
     "metadata": {
      "needs_background": "light"
     },
     "output_type": "display_data"
    }
   ],
   "source": [
    "#verificar funcionamiento\n",
    "x = np.linspace(0,10,1001)\n",
    "x0 = 4.5\n",
    "xtest = 4.5 \n",
    "m = singleton(xtest,x0)\n",
    "print(\"Con x0 \",x0,\"el valor singleton de x\",xtest, \"es\",m)\n",
    "plt.plot(xtest,m)\n",
    "plt.show()"
   ]
  },
  {
   "cell_type": "markdown",
   "metadata": {},
   "source": [
    "Funcion trimf(x,param): funcion de pertenencia triangular\n",
    "\n",
    "Argumentos:\n",
    "    \n",
    "    x: int, float, numpy.ndarray\n",
    "    Contiene los valores de x en el universo de discurso\n",
    "    para los cuales se evalua su valor de pertenencia\n",
    "    \n",
    "    param = [a,b,c] list, numpy.ndarray\n",
    "    contine los parametros de la funcion de pertenencia\n",
    "    debe cumplirse a<=b<=c\n",
    "    \n",
    "Retorna:\n",
    "\n",
    "    valor de pertenencia de x segun funcion de membrecia triuangular\n",
    "    trimf(x,param): float, si x es un int, float.\n",
    "    trimf(x,param): numpy.ndarray si x es numpy.ndarray\n",
    "    -1 si no es posible calcular el valor"
   ]
  },
  {
   "cell_type": "code",
   "execution_count": 20,
   "metadata": {},
   "outputs": [],
   "source": [
    "def trimf(x,param):\n",
    "    #param = [a,b,c]\n",
    "    # a<=b<=c\n",
    "    a = float(param[0])\n",
    "    b = float(param[1])\n",
    "    c = float(param[2])\n",
    "    if (a<=b) and (b<=c):\n",
    "        if (type(x) is int) or (type(x) is float):\n",
    "            if x<= a:\n",
    "                m = 0.0\n",
    "            elif (a <= x) and (x <= b):\n",
    "                m = (x - a)/(b - a)\n",
    "            elif (b <= x) and (x <= c):\n",
    "                m = (c - x)/(c - b)\n",
    "            else:\n",
    "                m = 0.0\n",
    "            return m\n",
    "        else:\n",
    "            m = np.zeros(x.size)\n",
    "            for i in range(x.size):\n",
    "                if x[i]<= a:\n",
    "                    m[i] = 0.0\n",
    "                elif (a <= x[i]) and (x[i] <= b):\n",
    "                    m[i] = (x[i] - a)/(b - a)\n",
    "                elif (b <= x[i]) and (x[i] <= c):\n",
    "                    m[i] = (c - x[i])/(c - b)\n",
    "                else:\n",
    "                    m[i] = 0.0\n",
    "            return m\n",
    "        return -1"
   ]
  },
  {
   "cell_type": "code",
   "execution_count": 21,
   "metadata": {},
   "outputs": [
    {
     "data": {
      "text/plain": [
       "[<matplotlib.lines.Line2D at 0x7fe8c1395250>]"
      ]
     },
     "execution_count": 21,
     "metadata": {},
     "output_type": "execute_result"
    },
    {
     "data": {
      "image/png": "[encoded data removed]",
      "text/plain": [
       "<Figure size 432x288 with 1 Axes>"
      ]
     },
     "metadata": {
      "needs_background": "light"
     },
     "output_type": "display_data"
    }
   ],
   "source": [
    "#funcionamiento de la funcion\n",
    "x = np.linspace(-10,10,1001)\n",
    "a,b,c = -4, -1, 8\n",
    "xtext = 2\n",
    "m = trimf(x,[a,b,c])\n",
    "plt.plot(x,m)"
   ]
  },
  {
   "cell_type": "markdown",
   "metadata": {},
   "source": [
    "Funcion trapmf(x,param): funcion de pertenencia triangular\n",
    "\n",
    "Argumentos:\n",
    "\n",
    "x: int, float, numpy.ndarray\n",
    "Contiene los valores de x en el universo de discurso\n",
    "para los cuales se evalua su valor de pertenencia\n",
    "\n",
    "param = [a,b,c,d] list, numpy.ndarray\n",
    "contine los parametros de la funcion de pertenencia\n",
    "debe cumplirse a<=b<=c<=d\n",
    "Retorna:\n",
    "\n",
    "valor de pertenencia de x segun funcion de membrecia trapezoidal\n",
    "trimf(x,param): float, si x es un int, float.\n",
    "trimf(x,param): numpy.ndarray si x es numpy.ndarray\n",
    "-1 si no es posible calcular el valor"
   ]
  },
  {
   "cell_type": "code",
   "execution_count": null,
   "metadata": {},
   "outputs": [],
   "source": [
    "def trapmf(x,param):\n",
    "    #param = [a,b,c,d]\n",
    "    # a<=b<=c<=d\n",
    "    a = float(param[0])\n",
    "    b = float(param[1])\n",
    "    c = float(param[2])\n",
    "    d = float(param[3])\n",
    "    if (a <= b) and (b <= c) and (c <= d):\n",
    "        if (type(x) is int) or (type(x) is float):\n",
    "            if x<= a:\n",
    "                m = 0.0\n",
    "            elif (a <= x) and (x <= b):\n",
    "                m = (x - a)/(b - a)\n",
    "            elif (b <= x) and (x <= c):\n",
    "                m = 1.0\n",
    "            elif (c <= x) and (x <= d):\n",
    "                m = (d - x)/(d - c)\n",
    "            else:\n",
    "                m = 0.0\n",
    "            return m\n",
    "        else:\n",
    "            m = np.zeros(x.size)\n",
    "            for i in range(x.size):\n",
    "                if x[i]<= a:\n",
    "                    m[i] = 0.0\n",
    "                elif (a <= x[i]) and (x[i] <= b):\n",
    "                    m[i] = (x[i] - a)/(b - a)\n",
    "                elif (b <= x[i]) and (x[i] <= c):\n",
    "                    m[i] = 1.0\n",
    "                elif (c <= x[i]) and (x[i] <= d):\n",
    "                    m[i] = (d - x[i])/(d - c)\n",
    "                else:\n",
    "                    m[i] = 0.0\n",
    "            return m\n",
    "        return -1"
   ]
  }
 ],
 "metadata": {
  "kernelspec": {
   "display_name": "Python 3",
   "language": "python",
   "name": "python3"
  },
  "language_info": {
   "codemirror_mode": {
    "name": "ipython",
    "version": 3
   },
   "file_extension": ".py",
   "mimetype": "text/x-python",
   "name": "python",
   "nbconvert_exporter": "python",
   "pygments_lexer": "ipython3",
   "version": "3.8.5"
  }
 },
 "nbformat": 4,
 "nbformat_minor": 4
}
